{
 "cells": [
  {
   "cell_type": "code",
   "execution_count": 1,
   "id": "c26dbfff",
   "metadata": {},
   "outputs": [],
   "source": [
    "import torch\n",
    "import torch.optim as optim\n",
    "import torch.nn as nn\n",
    "\n",
    "class CNN(nn.Module):\n",
    "    def __init__(self):\n",
    "        super(CNN, self).__init__()\n",
    "        self.block1 = nn.Sequential(nn.Conv2d(1, 8,3,1,1,bias=False),\n",
    "            nn.BatchNorm2d(8),\n",
    "            nn.ReLU(True))\n",
    "        \n",
    "        self.pool = nn.Sequential(nn.MaxPool2d(2))\n",
    "        \n",
    "        self.block2 = nn.Sequential(nn.Conv2d(8, 16,3,1,1,bias=False),\n",
    "            nn.BatchNorm2d(16),\n",
    "            nn.ReLU(True))\n",
    "        \n",
    "        self.block3 = nn.Sequential(nn.Flatten(),\n",
    "            nn.Linear(16*8*8, 1024))\n",
    "       \n",
    "        \n",
    "    def forward(self,x):\n",
    "        layer_1=self.block1(x)\n",
    "        #print(encoder_1.shape)\n",
    "        layer_1=self.pool(layer_1)\n",
    "        \n",
    "        layer_2=self.block2(layer_1)\n",
    "        layer_2=self.pool(layer_2)\n",
    "        \n",
    "        layer_3=self.block3(layer_2)\n",
    "        layer_3=torch.sigmoid(layer_3)\n",
    "        #print(layer_3.shape)\n",
    "        \n",
    "        out=torch.reshape(layer_3,(20,1,32,32))\n",
    " \n",
    "        #print(out.shape)\n",
    "        return out"
   ]
  },
  {
   "cell_type": "code",
   "execution_count": null,
   "id": "321e3550",
   "metadata": {},
   "outputs": [],
   "source": []
  }
 ],
 "metadata": {
  "kernelspec": {
   "display_name": "Python 3 (ipykernel)",
   "language": "python",
   "name": "python3"
  },
  "language_info": {
   "codemirror_mode": {
    "name": "ipython",
    "version": 3
   },
   "file_extension": ".py",
   "mimetype": "text/x-python",
   "name": "python",
   "nbconvert_exporter": "python",
   "pygments_lexer": "ipython3",
   "version": "3.8.13"
  }
 },
 "nbformat": 4,
 "nbformat_minor": 5
}
